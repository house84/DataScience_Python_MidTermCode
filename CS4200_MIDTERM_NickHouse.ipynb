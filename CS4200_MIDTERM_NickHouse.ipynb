{
 "cells": [
  {
   "cell_type": "markdown",
   "metadata": {},
   "source": [
    "Part A. 90 points\n",
    "Write a Python script to generate a list containing all permutations of a given number (from two up to eight or so, depending on your computer's capability, before your program crashes) of digits. Assume the input is provided as a list. Each permutation is to be represented as a list, and the final solution is to be printed as a list of (sub)lists (the order of the sub-lists does not matter), along with a count of the permutations. E.g.,\n",
    "\n",
    "Input list: [2, 0]\n",
    "Output list: [[2, 0], [0, 2]], and total count = 2\n",
    "\n",
    "Input list: [1, 2, 3]\n",
    "Output list: [[3, 2, 1], [2, 3, 1], [2, 1, 3], [3, 1, 2], [1, 3, 2], [1, 2, 3]], and total count = 6\n",
    "\n",
    "Your program should be able to handle input lists of any length up to a certain (modest) limit. If your hardware platform cannot handle all the permutations beyond, say, 8 items, you will not be penalized (just submit the Jupyter notebook and the corresponding html). Show a few input-output cases, including the maximum size you can achieve. Do not use any ready-made function that produces permutations. Do not use hard coding (e.g., for [1, 2, 3, 4, 0], do not print all the 120 permutations by hand). As usual, this problem can be solved in many ways. You"
   ]
  },
  {
   "cell_type": "code",
   "execution_count": 1,
   "metadata": {},
   "outputs": [
    {
     "name": "stdout",
     "output_type": "stream",
     "text": [
      "Input list:  [2, 0]\n",
      "Output list:  [[2, 0], [0, 2]] , and total count =  2\n",
      "\n",
      "Input list:  [1, 2, 3]\n",
      "Output list:  [[1, 2, 3], [1, 3, 2], [2, 1, 3], [2, 3, 1], [3, 1, 2], [3, 2, 1]] , and total count =  6\n",
      "\n",
      "Input list:  [1, 2, 3, 4, 0]\n",
      "Output list:  [[1, 2, 3, 4, 0], [1, 2, 3, 0, 4], [1, 2, 4, 3, 0], [1, 2, 4, 0, 3], [1, 2, 0, 3, 4], [1, 2, 0, 4, 3], [1, 3, 2, 4, 0], [1, 3, 2, 0, 4], [1, 3, 4, 2, 0], [1, 3, 4, 0, 2]] , and total count =  120\n",
      "\n",
      "Input list:  [1, 2, 3, 4, 5, 6, 7, 8, 9, 10]\n",
      "Output list:  [[1, 2, 3, 4, 5, 6, 7, 8, 9, 10], [1, 2, 3, 4, 5, 6, 7, 8, 10, 9], [1, 2, 3, 4, 5, 6, 7, 9, 8, 10], [1, 2, 3, 4, 5, 6, 7, 9, 10, 8], [1, 2, 3, 4, 5, 6, 7, 10, 8, 9], [1, 2, 3, 4, 5, 6, 7, 10, 9, 8], [1, 2, 3, 4, 5, 6, 8, 7, 9, 10], [1, 2, 3, 4, 5, 6, 8, 7, 10, 9], [1, 2, 3, 4, 5, 6, 8, 9, 7, 10], [1, 2, 3, 4, 5, 6, 8, 9, 10, 7]] , and total count =  3628800\n",
      "\n"
     ]
    }
   ],
   "source": [
    "#Answer to Part A also meets requirments for Part B (Function is 5 Lines usint List Comprehension)\n",
    "#========================================================================================================================#\n",
    "\n",
    "#Function for permutation\n",
    "def permutations(olist):\n",
    "    if olist:\n",
    "        permutationList = [[x] + y for x in olist for y in permutations([z for z in olist if z != x])]\n",
    "        return (permutationList)\n",
    "    else: return [[]]\n",
    "\n",
    "#========================================================================================================================#\n",
    "\n",
    "#Test Example 1 From Question\n",
    "myList = [2,0]    \n",
    "print(\"Input list: \", myList)\n",
    "newlist = permutations(myList)\n",
    "print(\"Output list: \", newlist[:10], \", and total count = \" , int(len(newlist)))\n",
    "print()\n",
    "\n",
    "#Test Example 2 From Question\n",
    "myList = [1, 2, 3]    \n",
    "print(\"Input list: \", myList)\n",
    "newlist = permutations(myList)\n",
    "print(\"Output list: \", newlist[:10], \", and total count = \" , int(len(newlist)))\n",
    "print()\n",
    "    \n",
    "#Test Example 3 From Question\n",
    "myList=[1,2,3,4,0]\n",
    "print(\"Input list: \", myList)\n",
    "newlist = permutations(myList)\n",
    "print(\"Output list: \", newlist[:10], \", and total count = \" , int(len(newlist)))\n",
    "print()\n",
    "\n",
    "#Testing List of 10 items  \n",
    "myList = [1,2,3,4,5,6,7,8,9,10]    \n",
    "print(\"Input list: \", myList)\n",
    "newlist = permutations(myList)\n",
    "print(\"Output list: \", newlist[:10], \", and total count = \" , int(len(newlist)))\n",
    "print()"
   ]
  },
  {
   "cell_type": "markdown",
   "metadata": {},
   "source": [
    "Part B. 10 points.\n",
    "Re-do the problem using no more than five physical lines of code. Hint: Use a single for loop with a single list comprehension inside the loop body. Use of the hint is optional. If your answer in Part A already meets the requirement of Part B, please say so as and leave Part B blank.\n",
    "\n",
    "Part B Completed in Part A"
   ]
  },
  {
   "cell_type": "code",
   "execution_count": 2,
   "metadata": {},
   "outputs": [],
   "source": [
    "#See Answer to Part A"
   ]
  }
 ],
 "metadata": {
  "kernelspec": {
   "display_name": "Python 3",
   "language": "python",
   "name": "python3"
  },
  "language_info": {
   "codemirror_mode": {
    "name": "ipython",
    "version": 3
   },
   "file_extension": ".py",
   "mimetype": "text/x-python",
   "name": "python",
   "nbconvert_exporter": "python",
   "pygments_lexer": "ipython3",
   "version": "3.8.1"
  }
 },
 "nbformat": 4,
 "nbformat_minor": 4
}
